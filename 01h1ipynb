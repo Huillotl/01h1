{
  "cells": [
    {
      "cell_type": "markdown",
      "metadata": {
        "id": "view-in-github",
        "colab_type": "text"
      },
      "source": [
        "<a href=\"https://colab.research.google.com/github/Huillotl/01h1/blob/main/Untitled2.ipynb\" target=\"_parent\"><img src=\"https://colab.research.google.com/assets/colab-badge.svg\" alt=\"Open In Colab\"/></a>"
      ]
    },
    {
      "cell_type": "code",
      "execution_count": null,
      "metadata": {
        "colab": {
          "background_save": true,
          "base_uri": "https://localhost:8080/",
          "height": 892
        },
        "id": "gNeoHswCioNK",
        "outputId": "9131c791-ab12-4ad0-e48d-fd5edc8837a0"
      },
      "outputs": [
        {
          "name": "stdout",
          "output_type": "stream",
          "text": [
            "Tablero inicial:\n"
          ]
        },
        {
          "data": {
            "image/png": "[encoded data removed]",
            "text/plain": [
              "<Figure size 640x480 with 1 Axes>"
            ]
          },
          "metadata": {},
          "output_type": "display_data"
        },
        {
          "name": "stdout",
          "output_type": "stream",
          "text": [
            "Vecino aleatorio:\n",
            "Ejecutando Recocido Simulado...\n",
            "Se Usaron todas las iteraciones 1\n"
          ]
        },
        {
          "data": {
            "image/png": "[encoded data removed]",
            "text/plain": [
              "<Figure size 640x480 with 1 Axes>"
            ]
          },
          "metadata": {},
          "output_type": "display_data"
        }
      ],
      "source": [
        "import matplotlib.pyplot as plt\n",
        "import numpy as np\n",
        "import random\n",
        "import math\n",
        "\n",
        "def generate_valid_bitstrings(n):\n",
        "    \"\"\"Genera todas las cadenas binarias de longitud n con n/2 unos,\n",
        "    y que no tengan tres bits consecutivos iguales.\"\"\"\n",
        "    bit_strings = []\n",
        "    for i in range(2**n):\n",
        "        binary = bin(i)[2:].zfill(n)\n",
        "        if binary.count('1') != n // 2:\n",
        "            continue\n",
        "        if '000' in binary or '111' in binary:\n",
        "            continue\n",
        "        bit_strings.append([int(b) for b in binary])\n",
        "    return np.array(bit_strings)\n",
        "\n",
        "def imprimir_tablero(tab):\n",
        "    plt.imshow(tab, cmap='coolwarm')\n",
        "\n",
        "    plt.yticks(np.arange(tab.shape[0]) + 0.45, [])\n",
        "    plt.xticks(np.arange(tab.shape[0]) + 0.50, [])\n",
        "    plt.gca().set_aspect('equal')\n",
        "    plt.grid(True, which='both', linestyle='-', linewidth=0.5, color='black')\n",
        "    plt.show()\n",
        "\n",
        "def cost(tab,posicion_objetivo=None,valor_objetivo=None):\n",
        "    \"\"\"Calcula un puntaje basado en cuántas reglas se violan.\"\"\"\n",
        "    n = len(tab)\n",
        "    violations = 0\n",
        "    cols=[]\n",
        "    if posicion_objetivo is not None and valor_objetivo is not None:\n",
        "        for pos, val in zip(posicion_objetivo, valor_objetivo):\n",
        "            row, col = pos\n",
        "            if tab[row, col] != val:\n",
        "                violations += 1\n",
        "    for i in range(n):\n",
        "        col = tab[:, i]\n",
        "        if np.count_nonzero(col == 0) != n // 2:\n",
        "            violations+=1\n",
        "        for j in range(n - 2):\n",
        "            if col[j] == col[j+1] == col[j+2]:\n",
        "                violations+=13\n",
        "        cols.append(col)\n",
        "    cols=np.array(cols)\n",
        "    violations+=n-np.unique(cols,axis=0).shape[0]\n",
        "    return violations\n",
        "\n",
        "\n",
        "\n",
        "def obtener_complemento(inicial, validos):\n",
        "    return [x for x in validos if not any(np.array_equal(x, y) for y in inicial)]\n",
        "\n",
        "def vecino_aleatorio(tab, validos):\n",
        "    \"\"\"Genera una variación del tablero modificando una fila aleatoria.\"\"\"\n",
        "    disponibles = obtener_complemento(tab, validos)\n",
        "    n = tab.shape[0]\n",
        "    new_tab = tab.copy()\n",
        "    fila = random.randint(0, n - 1)\n",
        "    nueva_fila = disponibles[random.randint(0, len(disponibles) - 1)]\n",
        "    new_tab[fila] = nueva_fila\n",
        "    return new_tab\n",
        "\n",
        "def simulated_annealing(board, validos,posicion_objetivo,valores_objetivo, max_iter=100000, temp=1000, cooling_rate=0.0.9921875, temp_min=1e-20):\n",
        "    current_board = board.copy()\n",
        "    current_cost = cost(current_board)\n",
        "\n",
        "    for i in range(max_iter):\n",
        "        temp *= cooling_rate\n",
        "        if temp <= temp_min:\n",
        "            print(\"Temperatura 0\",i)\n",
        "            break\n",
        "\n",
        "        vecino = vecino_aleatorio(current_board, validos)\n",
        "        costo = cost(vecino,posicion_objetivo,valores_objetivo)\n",
        "\n",
        "        if costo == 0:\n",
        "            print(\"SOLUCIONADO\")\n",
        "            return vecino\n",
        "\n",
        "        delta = costo - current_cost\n",
        "        if delta < 0 or random.uniform(0, 1) < math.exp(-delta / temp):\n",
        "            current_board = vecino\n",
        "            current_cost = costo\n",
        "    print(\"Se Usaron todas las iteraciones\", current_cost)\n",
        "    return current_board\n",
        "\n",
        "\n",
        "\n",
        "n = 12#Tiene que ser un nuero par\n",
        "columnas_validas = generate_valid_bitstrings(n)\n",
        "inicial = columnas_validas[:n]\n",
        "posicion_objetivo = [(0, 0), (6, 6), (4, 3)]\n",
        "valores_objetivo = [1, 0, 1]\n",
        "\n",
        "print(\"Tablero inicial:\")\n",
        "\n",
        "imprimir_tablero(inicial)\n",
        "\n",
        "print(\"Vecino aleatorio:\")\n",
        "#vecino = vecino_aleatorio(inicial, columnas_validas)\n",
        "#imprimir_tablero(vecino)\n",
        "\n",
        "print(\"Ejecutando Recocido Simulado...\")\n",
        "resultado = simulated_annealing(inicial, columnas_validas,posicion_objetivo,valores_objetivo)\n",
        "#k=np.zeros_like(inicial)\n",
        "#k[:, 1] = inicial[:, 2]\n",
        "\n",
        "imprimir_tablero(resultado)\n"
      ]
    },
    {
      "cell_type": "code",
      "execution_count": null,
      "metadata": {
        "colab": {
          "base_uri": "https://localhost:8080/",
          "height": 428
        },
        "id": "dvuRARHnoAfb",
        "outputId": "00895b57-d13d-494e-a6f4-34bbec0b43b8"
      },
      "outputs": [
        {
          "name": "stdout",
          "output_type": "stream",
          "text": [
            "Visualización con Matplotlib:\n"
          ]
        },
        {
          "data": {
            "image/png": "[encoded data removed]",
            "text/plain": [
              "<Figure size 640x480 with 1 Axes>"
            ]
          },
          "metadata": {},
          "output_type": "display_data"
        }
      ],
      "source": [
        "import matplotlib.pyplot as plt\n",
        "def imprimir_tablero(tab):\n",
        "    plt.imshow(tab, cmap='coolwarm')\n",
        "\n",
        "    plt.yticks(np.arange(tab.shape[0]) + 0.45, [])\n",
        "    plt.xticks(np.arange(tab.shape[0]) + 0.50, [])\n",
        "    plt.gca().set_aspect('equal')\n",
        "    plt.grid(True, which='both', linestyle='-', linewidth=0.5, color='black')\n",
        "    plt.show()\n",
        "\n",
        "# Ejemplo de uso con el resultado\n",
        "print(\"Visualización con Matplotlib:\")\n",
        "imprimir_tablero(resultado)\n"
      ]
    }
  ],
  "metadata": {
    "colab": {
      "provenance": [],
      "authorship_tag": "ABX9TyPdb9ywk1LgFDDSg8HktkJW",
      "include_colab_link": true
    },
    "kernelspec": {
      "display_name": "Python 3",
      "name": "python3"
    },
    "language_info": {
      "name": "python"
    }
  },
  "nbformat": 4,
  "nbformat_minor": 0
}
